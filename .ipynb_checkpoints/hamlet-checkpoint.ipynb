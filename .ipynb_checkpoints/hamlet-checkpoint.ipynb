{
 "cells": [
  {
   "cell_type": "markdown",
   "metadata": {},
   "source": [
    "## Integrating Spark and Jupyter Notebook"
   ]
  },
  {
   "cell_type": "markdown",
   "metadata": {},
   "source": [
    "PySpark isn't on sys.path by default, but that doesn't mean it can't be used as a regular library. You can address this by either symlinking pyspark into your site-packages, or adding pyspark to sys.path at runtime. findspark does the latter."
   ]
  },
  {
   "cell_type": "markdown",
   "metadata": {},
   "source": [
    "```\n",
    "nano ~/.bash_profile\n",
    "export SPARK_HOME=\"/usr/local/Cellar/apache-spark/2.2.0/libexec/\"\n",
    "\n",
    "pip install findspark\n",
    "```"
   ]
  },
  {
   "cell_type": "markdown",
   "metadata": {},
   "source": [
    "## To Spark or not to Spark, that is the question"
   ]
  },
  {
   "cell_type": "code",
   "execution_count": 1,
   "metadata": {
    "collapsed": true
   },
   "outputs": [],
   "source": [
    "import findspark\n",
    "findspark.init()"
   ]
  },
  {
   "cell_type": "code",
   "execution_count": 2,
   "metadata": {
    "collapsed": true
   },
   "outputs": [],
   "source": [
    "import pyspark\n",
    "sc = pyspark.SparkContext()"
   ]
  },
  {
   "cell_type": "code",
   "execution_count": 3,
   "metadata": {
    "collapsed": true
   },
   "outputs": [],
   "source": [
    "raw_hamlet = sc.textFile('hamlet.txt')"
   ]
  },
  {
   "cell_type": "code",
   "execution_count": 4,
   "metadata": {},
   "outputs": [
    {
     "data": {
      "text/plain": [
       "['hamlet@0\\t\\tHAMLET',\n",
       " 'hamlet@8',\n",
       " 'hamlet@9',\n",
       " 'hamlet@10\\t\\tDRAMATIS PERSONAE',\n",
       " 'hamlet@29']"
      ]
     },
     "execution_count": 4,
     "metadata": {},
     "output_type": "execute_result"
    }
   ],
   "source": [
    "raw_hamlet.take(5)"
   ]
  },
  {
   "cell_type": "code",
   "execution_count": 5,
   "metadata": {
    "collapsed": true
   },
   "outputs": [],
   "source": [
    "split_hamlet = raw_hamlet.map(lambda line: line.split('\\t'))"
   ]
  },
  {
   "cell_type": "code",
   "execution_count": 6,
   "metadata": {},
   "outputs": [
    {
     "data": {
      "text/plain": [
       "[['hamlet@0', '', 'HAMLET'],\n",
       " ['hamlet@8'],\n",
       " ['hamlet@9'],\n",
       " ['hamlet@10', '', 'DRAMATIS PERSONAE'],\n",
       " ['hamlet@29']]"
      ]
     },
     "execution_count": 6,
     "metadata": {},
     "output_type": "execute_result"
    }
   ],
   "source": [
    "split_hamlet.take(5)"
   ]
  },
  {
   "cell_type": "markdown",
   "metadata": {},
   "source": [
    "### Lambda functions are great for writing quick functions we can pass into PySpark methods with simple logic. \n",
    "\n",
    "Any function that returns a sequence of data in PySpark (versus a guaranteed Boolean value, like filter() requires) must use a yield statement to specify the values that should be pulled later."
   ]
  },
  {
   "cell_type": "markdown",
   "metadata": {},
   "source": [
    "### ```yield``` is a Python technique that allows the interpreter to generate data on the fly and pull it when necessary, instead of storing it to memory immediately"
   ]
  },
  {
   "cell_type": "markdown",
   "metadata": {},
   "source": [
    "Finally, not all functions require us to use yield; only the ones that generate a custom sequence of data do. For map() or filter(), we use return to return a value for every single element in the RDD we're running the functions on."
   ]
  },
  {
   "cell_type": "code",
   "execution_count": 7,
   "metadata": {},
   "outputs": [
    {
     "data": {
      "text/plain": [
       "[('hamlet@0', 'hamlet speaketh!'),\n",
       " ('hamlet@75', 'hamlet speaketh!'),\n",
       " ('hamlet@1004', 'hamlet speaketh!'),\n",
       " ('hamlet@9144', 'hamlet speaketh!'),\n",
       " ('hamlet@12313', 'hamlet speaketh!'),\n",
       " ('hamlet@12434', 'hamlet speaketh!'),\n",
       " ('hamlet@12760', 'hamlet speaketh!'),\n",
       " ('hamlet@12858', 'hamlet speaketh!'),\n",
       " ('hamlet@14821', 'hamlet speaketh!'),\n",
       " ('hamlet@15261', 'hamlet speaketh!')]"
      ]
     },
     "execution_count": 7,
     "metadata": {},
     "output_type": "execute_result"
    }
   ],
   "source": [
    "def hamlet_speaks(line):\n",
    "    id = line[0]\n",
    "    speaketh = False\n",
    "    \n",
    "    if \"HAMLET\" in line:\n",
    "        speaketh = True\n",
    "    \n",
    "    if speaketh:\n",
    "        yield id,\"hamlet speaketh!\"\n",
    "\n",
    "hamlet_spoken = split_hamlet.flatMap(lambda x: hamlet_speaks(x))\n",
    "hamlet_spoken.take(10)"
   ]
  },
  {
   "cell_type": "markdown",
   "metadata": {},
   "source": [
    "### flatMap() is different than map() because it doesn't require an output for every element in the RDD."
   ]
  },
  {
   "cell_type": "markdown",
   "metadata": {},
   "source": [
    "The flatMap() method is useful whenever we want to generate a sequence of values from an RDD."
   ]
  },
  {
   "cell_type": "markdown",
   "metadata": {},
   "source": [
    "In this case, we want an RDD object that contains tuples of the unique line IDs and the text \"hamlet speaketh!,\" but only for the elements in the RDD that have \"HAMLET\" in one of the values. We can't use the map() method for this because it requires a return value for every element in the RDD."
   ]
  },
  {
   "cell_type": "markdown",
   "metadata": {},
   "source": [
    "let's use a filter() with a named function to extract the original lines where Hamlet spoke. The functions we pass into filter() must return values, which will be either True or False."
   ]
  },
  {
   "cell_type": "code",
   "execution_count": 8,
   "metadata": {},
   "outputs": [
    {
     "data": {
      "text/plain": [
       "[['hamlet@0', '', 'HAMLET'],\n",
       " ['hamlet@75', 'HAMLET', 'son to the late, and nephew to the present king.'],\n",
       " ['hamlet@1004', '', 'HAMLET'],\n",
       " ['hamlet@9144', '', 'HAMLET'],\n",
       " ['hamlet@12313',\n",
       "  'HAMLET',\n",
       "  '[Aside]  A little more than kin, and less than kind.']]"
      ]
     },
     "execution_count": 8,
     "metadata": {},
     "output_type": "execute_result"
    }
   ],
   "source": [
    "def filter_hamlet_speaks(line):\n",
    "    return \"HAMLET\" in line\n",
    "\n",
    "hamlet_spoken_lines = split_hamlet.filter(lambda line: filter_hamlet_speaks(line))\n",
    "hamlet_spoken_lines.take(5)"
   ]
  },
  {
   "cell_type": "markdown",
   "metadata": {},
   "source": [
    "### Spark has two kinds of methods, transformations and actions. \n",
    "\n",
    "While we've explored some of the transformations, we haven't used any actions other than take()"
   ]
  },
  {
   "cell_type": "markdown",
   "metadata": {},
   "source": [
    "Whenever we use an action method, Spark forces the evaluation of lazy code. If we only chain together transformation methods and print the resulting RDD object, we'll see the type of RDD (e.g. a PythonRDD or PipelinedRDD object), but not the elements within it. That's because the computation hasn't actually happened yet."
   ]
  },
  {
   "cell_type": "markdown",
   "metadata": {},
   "source": [
    "Even though Spark simplifies chaining lots of transformations together, it's good practice to use actions to observe the intermediate RDD objects between those transformations. This will let you know whether your transformations are working the way you expect them to."
   ]
  },
  {
   "cell_type": "markdown",
   "metadata": {},
   "source": [
    "### Count()\n",
    "\n",
    "The count() method returns the number of elements in an RDD. count() is useful when we want to make sure the result of a transformation contains the right number of elements."
   ]
  },
  {
   "cell_type": "code",
   "execution_count": 9,
   "metadata": {},
   "outputs": [
    {
     "data": {
      "text/plain": [
       "381"
      ]
     },
     "execution_count": 9,
     "metadata": {},
     "output_type": "execute_result"
    }
   ],
   "source": [
    "hamlet_spoken_lines.count()"
   ]
  },
  {
   "cell_type": "markdown",
   "metadata": {},
   "source": [
    "### Collect()\n",
    "\n",
    "We've used take() to preview the first few elements of an RDD, similar to the way we've use head() in pandas. But what about returning all of the elements in a collection? We need to do this to write an RDD to a CSV, for example. It's also useful for running some basic Python code over a collection without going through PySpark"
   ]
  },
  {
   "cell_type": "markdown",
   "metadata": {},
   "source": [
    "Running .collect() on an RDD returns a list representation of it."
   ]
  },
  {
   "cell_type": "code",
   "execution_count": 10,
   "metadata": {},
   "outputs": [
    {
     "data": {
      "text/plain": [
       "[['hamlet@0', '', 'HAMLET'],\n",
       " ['hamlet@75', 'HAMLET', 'son to the late, and nephew to the present king.'],\n",
       " ['hamlet@1004', '', 'HAMLET'],\n",
       " ['hamlet@9144', '', 'HAMLET'],\n",
       " ['hamlet@12313',\n",
       "  'HAMLET',\n",
       "  '[Aside]  A little more than kin, and less than kind.'],\n",
       " ['hamlet@12434', 'HAMLET', \"Not so, my lord; I am too much i' the sun.\"],\n",
       " ['hamlet@12760', 'HAMLET', 'Ay, madam, it is common.'],\n",
       " ['hamlet@12858', 'HAMLET', \"Seems, madam! nay it is; I know not 'seems.'\"],\n",
       " ['hamlet@14821', 'HAMLET', 'I shall in all my best obey you, madam.'],\n",
       " ['hamlet@15261', 'HAMLET', 'O, that this too too solid flesh would melt'],\n",
       " ['hamlet@16738', 'HAMLET', 'I am glad to see you well:'],\n",
       " ['hamlet@16863',\n",
       "  'HAMLET',\n",
       "  \"Sir, my good friend; I'll change that name with you:\"],\n",
       " ['hamlet@17006', 'HAMLET', 'I am very glad to see you. Good even, sir.'],\n",
       " ['hamlet@17149', 'HAMLET', 'I would not hear your enemy say so,'],\n",
       " ['hamlet@17459', 'HAMLET', 'I pray thee, do not mock me, fellow-student;'],\n",
       " ['hamlet@17605',\n",
       "  'HAMLET',\n",
       "  'Thrift, thrift, Horatio! the funeral baked meats'],\n",
       " ['hamlet@17854', 'HAMLET', \"                  In my mind's eye, Horatio.\"],\n",
       " ['hamlet@17954', 'HAMLET', 'He was a man, take him for all in all,'],\n",
       " ['hamlet@18089', 'HAMLET', 'Saw? who?'],\n",
       " ['hamlet@18147', 'HAMLET', 'The king my father!'],\n",
       " ['hamlet@18318', 'HAMLET', \"For God's love, let me hear.\"],\n",
       " ['hamlet@19109', 'HAMLET', 'But where was this?'],\n",
       " ['hamlet@19193', 'HAMLET', 'Did you not speak to it?'],\n",
       " ['hamlet@19494', 'HAMLET', \"'Tis very strange.\"],\n",
       " ['hamlet@19640', 'HAMLET', 'Indeed, indeed, sirs, but this troubles me.'],\n",
       " ['hamlet@19767', 'HAMLET', \"Arm'd, say you?\"],\n",
       " ['hamlet@19837', 'HAMLET', 'From top to toe?'],\n",
       " ['hamlet@19931', 'HAMLET', 'Then saw you not his face?'],\n",
       " ['hamlet@20015', 'HAMLET', \"What, look'd he frowningly?\"],\n",
       " ['hamlet@20104', 'HAMLET', 'Pale or red?'],\n",
       " ['hamlet@20150', 'HAMLET', \"                  And fix'd his eyes upon you?\"],\n",
       " ['hamlet@20231', 'HAMLET', '                  I would I had been there.'],\n",
       " ['hamlet@20323', 'HAMLET', \"Very like, very like. Stay'd it long?\"],\n",
       " ['hamlet@20502', 'HAMLET', '                  His beard was grizzled--no?'],\n",
       " ['hamlet@20623', 'HAMLET', '                  I will watch to-night;'],\n",
       " ['hamlet@20730', 'HAMLET', \"If it assume my noble father's person,\"],\n",
       " ['hamlet@21197', 'HAMLET', 'Your loves, as mine to you: farewell.'],\n",
       " ['hamlet@21486', '', 'HAMLET'],\n",
       " ['hamlet@27782', '', 'HAMLET'],\n",
       " ['hamlet@27867', 'HAMLET', 'The air bites shrewdly; it is very cold.'],\n",
       " ['hamlet@27959', 'HAMLET', 'What hour now?'],\n",
       " ['hamlet@28037', 'HAMLET', 'No, it is struck.'],\n",
       " ['hamlet@28259',\n",
       "  'HAMLET',\n",
       "  'The king doth wake to-night and takes his rouse,'],\n",
       " ['hamlet@28513', 'HAMLET', \"Ay, marry, is't:\"],\n",
       " ['hamlet@29667', 'HAMLET', 'Angels and ministers of grace defend us!'],\n",
       " ['hamlet@30791', 'HAMLET', 'It will not speak; then I will follow it.'],\n",
       " ['hamlet@30867', 'HAMLET', '                  Why, what should be the fear?'],\n",
       " ['hamlet@31500', 'HAMLET', 'It waves me still.'],\n",
       " ['hamlet@31591', 'HAMLET', 'Hold off your hands.'],\n",
       " ['hamlet@31657', 'HAMLET', 'My fate cries out,'],\n",
       " ['hamlet@32213', '', 'HAMLET'],\n",
       " ['hamlet@32299',\n",
       "  'HAMLET',\n",
       "  \"Where wilt thou lead me? speak; I'll go no further.\"],\n",
       " ['hamlet@32375', 'HAMLET', '       I will.'],\n",
       " ['hamlet@32515', 'HAMLET', 'Alas, poor ghost!'],\n",
       " ['hamlet@32615', 'HAMLET', 'Speak; I am bound to hear.'],\n",
       " ['hamlet@32704', 'HAMLET', 'What?'],\n",
       " ['hamlet@33386', 'HAMLET', 'O God!'],\n",
       " ['hamlet@33452', 'HAMLET', 'Murder!'],\n",
       " ['hamlet@33559', 'HAMLET', \"Haste me to know't, that I, with wings as swift\"],\n",
       " ['hamlet@34089', 'HAMLET', 'O my prophetic soul! My uncle!'],\n",
       " ['hamlet@36216', 'HAMLET', 'O all you host of heaven! O earth! what else?'],\n",
       " ['hamlet@37240', 'HAMLET', 'So be it!'],\n",
       " ['hamlet@37301', 'HAMLET', 'Hillo, ho, ho, boy! come, bird, come.'],\n",
       " ['hamlet@37444', 'HAMLET', 'O, wonderful!'],\n",
       " ['hamlet@37516', 'HAMLET', \"No; you'll reveal it.\"],\n",
       " ['hamlet@37609',\n",
       "  'HAMLET',\n",
       "  'How say you, then; would heart of man once think it?'],\n",
       " ['hamlet@37763', 'HAMLET', \"There's ne'er a villain dwelling in all Denmark\"],\n",
       " ['hamlet@37924',\n",
       "  'HAMLET',\n",
       "  \"                  Why, right; you are i' the right;\"],\n",
       " ['hamlet@38289', 'HAMLET', \"I'm sorry they offend you, heartily;\"],\n",
       " ['hamlet@38395', 'HAMLET', 'Yes, by Saint Patrick, but there is, Horatio,'],\n",
       " ['hamlet@38749', 'HAMLET', 'Never make known what you have seen to-night.'],\n",
       " ['hamlet@38853', 'HAMLET', \"Nay, but swear't.\"],\n",
       " ['hamlet@38970', 'HAMLET', 'Upon my sword.'],\n",
       " ['hamlet@39055', 'HAMLET', 'Indeed, upon my sword, indeed.'],\n",
       " ['hamlet@39119', 'HAMLET', \"Ah, ha, boy! say'st thou so? art thou there,\"],\n",
       " ['hamlet@39307', 'HAMLET', 'Never to speak of this that you have seen,'],\n",
       " ['hamlet@39403', 'HAMLET', \"Hic et ubique? then we'll shift our ground.\"],\n",
       " ['hamlet@39611',\n",
       "  'HAMLET',\n",
       "  \"Well said, old mole! canst work i' the earth so fast?\"],\n",
       " ['hamlet@39779', 'HAMLET', 'And therefore as a stranger give it welcome.'],\n",
       " ['hamlet@40518', 'HAMLET', 'Rest, rest, perturbed spirit!'],\n",
       " ['hamlet@40953', '', 'HAMLET'],\n",
       " ['hamlet@46646', '', 'HAMLET'],\n",
       " ['hamlet@55142', 'HAMLET', 'Well, God-a-mercy.'],\n",
       " ['hamlet@55209', 'HAMLET', 'Excellent well; you are a fishmonger.'],\n",
       " ['hamlet@55286', 'HAMLET', 'Then I would you were so honest a man.'],\n",
       " ['hamlet@55365',\n",
       "  'HAMLET',\n",
       "  'Ay, sir; to be honest, as this world goes, is to be'],\n",
       " ['hamlet@55504',\n",
       "  'HAMLET',\n",
       "  'For if the sun breed maggots in a dead dog, being a'],\n",
       " ['hamlet@55640', 'HAMLET', \"Let her not walk i' the sun: conception is a\"],\n",
       " ['hamlet@56053', 'HAMLET', 'Words, words, words.'],\n",
       " ['hamlet@56126', 'HAMLET', 'Between who?'],\n",
       " ['hamlet@56205',\n",
       "  'HAMLET',\n",
       "  'Slanders, sir: for the satirical rogue says here'],\n",
       " ['hamlet@56765', 'HAMLET', 'Into my grave.'],\n",
       " ['hamlet@57151',\n",
       "  'HAMLET',\n",
       "  'You cannot, sir, take from me any thing that I will'],\n",
       " ['hamlet@57328', 'HAMLET', 'These tedious old fools!'],\n",
       " ['hamlet@57589', 'HAMLET', 'My excellent good friends! How dost thou,'],\n",
       " ['hamlet@57851', 'HAMLET', 'Nor the soles of her shoe?'],\n",
       " ['hamlet@57917',\n",
       "  'HAMLET',\n",
       "  'Then you live about her waist, or in the middle of'],\n",
       " ['hamlet@58029',\n",
       "  'HAMLET',\n",
       "  'In the secret parts of fortune? O, most true; she'],\n",
       " ['hamlet@58183',\n",
       "  'HAMLET',\n",
       "  'Then is doomsday near: but your news is not true.'],\n",
       " ['hamlet@58414', 'HAMLET', \"Denmark's a prison.\"],\n",
       " ['hamlet@58478', 'HAMLET', 'A goodly one; in which there are many confines,'],\n",
       " ['hamlet@58626',\n",
       "  'HAMLET',\n",
       "  \"Why, then, 'tis none to you; for there is nothing\"],\n",
       " ['hamlet@58837',\n",
       "  'HAMLET',\n",
       "  'O God, I could be bounded in a nut shell and count'],\n",
       " ['hamlet@59089', 'HAMLET', 'A dream itself is but a shadow.'],\n",
       " ['hamlet@59235',\n",
       "  'HAMLET',\n",
       "  'Then are our beggars bodies, and our monarchs and'],\n",
       " ['hamlet@59449',\n",
       "  'HAMLET',\n",
       "  'No such matter: I will not sort you with the rest'],\n",
       " ['hamlet@59718',\n",
       "  'HAMLET',\n",
       "  'Beggar that I am, I am even poor in thanks; but I'],\n",
       " ['hamlet@60019',\n",
       "  'HAMLET',\n",
       "  'Why, any thing, but to the purpose. You were sent'],\n",
       " ['hamlet@60272',\n",
       "  'HAMLET',\n",
       "  'That you must teach me. But let me conjure you, by'],\n",
       " ['hamlet@60623',\n",
       "  'HAMLET',\n",
       "  '[Aside]  Nay, then, I have an eye of you.--If you'],\n",
       " ['hamlet@60746', 'HAMLET', 'I will tell you why; so shall my anticipation'],\n",
       " ['hamlet@61761',\n",
       "  'HAMLET',\n",
       "  \"Why did you laugh then, when I said 'man delights not me'?\"],\n",
       " ['hamlet@62028',\n",
       "  'HAMLET',\n",
       "  'He that plays the king shall be welcome; his majesty'],\n",
       " ['hamlet@62513',\n",
       "  'HAMLET',\n",
       "  'How chances it they travel? their residence, both'],\n",
       " ['hamlet@62702',\n",
       "  'HAMLET',\n",
       "  'Do they hold the same estimation they did when I was'],\n",
       " ['hamlet@62838', 'HAMLET', 'How comes it? do they grow rusty?'],\n",
       " ['hamlet@63243',\n",
       "  'HAMLET',\n",
       "  \"What, are they children? who maintains 'em? how are\"],\n",
       " ['hamlet@63832', 'HAMLET', \"Is't possible?\"],\n",
       " ['hamlet@63918', 'HAMLET', 'Do the boys carry it away?'],\n",
       " ['hamlet@64020',\n",
       "  'HAMLET',\n",
       "  'It is not very strange; for mine uncle is king of'],\n",
       " ['hamlet@64390',\n",
       "  'HAMLET',\n",
       "  'Gentlemen, you are welcome to Elsinore. Your hands,'],\n",
       " ['hamlet@64787', 'HAMLET', 'I am but mad north-north-west: when the wind is'],\n",
       " ['hamlet@64947',\n",
       "  'HAMLET',\n",
       "  'Hark you, Guildenstern; and you too: at each ear a'],\n",
       " ['hamlet@65185',\n",
       "  'HAMLET',\n",
       "  'I will prophesy he comes to tell me of the players;'],\n",
       " ['hamlet@65361', 'HAMLET', 'My lord, I have news to tell you.'],\n",
       " ['hamlet@65493', 'HAMLET', 'Buz, buz!'],\n",
       " ['hamlet@65546', 'HAMLET', 'Then came each actor on his ass,--'],\n",
       " ['hamlet@65936',\n",
       "  'HAMLET',\n",
       "  'O Jephthah, judge of Israel, what a treasure hadst thou!'],\n",
       " ['hamlet@66049', 'HAMLET', 'Why,'],\n",
       " ['hamlet@66176', 'HAMLET', \"Am I not i' the right, old Jephthah?\"],\n",
       " ['hamlet@66315', 'HAMLET', 'Nay, that follows not.'],\n",
       " ['hamlet@66390', 'HAMLET', 'Why,'],\n",
       " ['hamlet@67264', 'HAMLET', 'I heard thee speak me a speech once, but it was'],\n",
       " ['hamlet@70192',\n",
       "  'HAMLET',\n",
       "  \"It shall to the barber's, with your beard. Prithee,\"],\n",
       " ['hamlet@70396', 'HAMLET', \"'The mobled queen?'\"],\n",
       " ['hamlet@71229',\n",
       "  'HAMLET',\n",
       "  \"'Tis well: I'll have thee speak out the rest soon.\"],\n",
       " ['hamlet@71600', 'HAMLET', \"God's bodykins, man, much better: use every man\"],\n",
       " ['hamlet@71852',\n",
       "  'HAMLET',\n",
       "  \"Follow him, friends: we'll hear a play to-morrow.\"],\n",
       " ['hamlet@72060',\n",
       "  'HAMLET',\n",
       "  \"We'll ha't to-morrow night. You could, for a need,\"],\n",
       " ['hamlet@72250',\n",
       "  'HAMLET',\n",
       "  'Very well. Follow that lord; and look you mock him'],\n",
       " ['hamlet@72440', 'HAMLET', \"Ay, so, God be wi' ye;\"],\n",
       " ['hamlet@75006', '', 'HAMLET'],\n",
       " ['hamlet@77902', 'HAMLET', 'To be, or not to be: that is the question:'],\n",
       " ['hamlet@79499', 'HAMLET', 'I humbly thank you; well, well, well.'],\n",
       " ['hamlet@79664', 'HAMLET', 'No, not I;'],\n",
       " ['hamlet@79971', 'HAMLET', 'Ha, ha! are you honest?'],\n",
       " ['hamlet@80021', 'HAMLET', 'Are you fair?'],\n",
       " ['hamlet@80078',\n",
       "  'HAMLET',\n",
       "  'That if you be honest and fair, your honesty should'],\n",
       " ['hamlet@80247', 'HAMLET', 'Ay, truly; for the power of beauty will sooner'],\n",
       " ['hamlet@80549',\n",
       "  'HAMLET',\n",
       "  'You should not have believed me; for virtue cannot'],\n",
       " ['hamlet@80715', 'HAMLET', 'Get thee to a nunnery: why wouldst thou be a'],\n",
       " ['hamlet@81271',\n",
       "  'HAMLET',\n",
       "  'Let the doors be shut upon him, that he may play the'],\n",
       " ['hamlet@81418',\n",
       "  'HAMLET',\n",
       "  \"If thou dost marry, I'll give thee this plague for\"],\n",
       " ['hamlet@81797',\n",
       "  'HAMLET',\n",
       "  'I have heard of your paintings too, well enough; God'],\n",
       " ['hamlet@84092', '', 'HAMLET'],\n",
       " ['hamlet@84175',\n",
       "  'HAMLET',\n",
       "  'Speak the speech, I pray you, as I pronounced it to'],\n",
       " ['hamlet@84967',\n",
       "  'HAMLET',\n",
       "  'Be not too tame neither, but let your own discretion'],\n",
       " ['hamlet@86063',\n",
       "  'HAMLET',\n",
       "  'O, reform it altogether. And let those that play'],\n",
       " ['hamlet@86658', 'HAMLET', 'Bid the players make haste.'],\n",
       " ['hamlet@86842', 'HAMLET', 'What ho! Horatio!'],\n",
       " ['hamlet@86930', 'HAMLET', \"Horatio, thou art e'en as just a man\"],\n",
       " ['hamlet@87042', 'HAMLET', '                  Nay, do not think I flatter;'],\n",
       " ['hamlet@88606', 'HAMLET', 'They are coming to the play; I must be idle:'],\n",
       " ['hamlet@88847',\n",
       "  'HAMLET',\n",
       "  \"Excellent, i' faith; of the chameleon's dish: I eat\"],\n",
       " ['hamlet@89044', 'HAMLET', 'No, nor mine now.'],\n",
       " ['hamlet@89209', 'HAMLET', 'What did you enact?'],\n",
       " ['hamlet@89327',\n",
       "  'HAMLET',\n",
       "  'It was a brute part of him to kill so capital a calf'],\n",
       " ['hamlet@89530', 'HAMLET', \"No, good mother, here's metal more attractive.\"],\n",
       " ['hamlet@89645', 'HAMLET', 'Lady, shall I lie in your lap?'],\n",
       " ['hamlet@89739', 'HAMLET', 'I mean, my head upon your lap?'],\n",
       " ['hamlet@89800', 'HAMLET', 'Do you think I meant country matters?'],\n",
       " ['hamlet@89881',\n",
       "  'HAMLET',\n",
       "  \"That's a fair thought to lie between maids' legs.\"],\n",
       " ['hamlet@89966', 'HAMLET', 'Nothing.'],\n",
       " ['hamlet@90016', 'HAMLET', 'Who, I?'],\n",
       " ['hamlet@90054',\n",
       "  'HAMLET',\n",
       "  'O God, your only jig-maker. What should a man do'],\n",
       " ['hamlet@90263',\n",
       "  'HAMLET',\n",
       "  'So long? Nay then, let the devil wear black, for'],\n",
       " ['hamlet@91416',\n",
       "  'HAMLET',\n",
       "  'Marry, this is miching mallecho; it means mischief.'],\n",
       " ['hamlet@91555',\n",
       "  'HAMLET',\n",
       "  'We shall know by this fellow: the players cannot'],\n",
       " ['hamlet@91692',\n",
       "  'HAMLET',\n",
       "  \"Ay, or any show that you'll show him: be not you\"],\n",
       " ['hamlet@91989', 'HAMLET', 'Is this a prologue, or the posy of a ring?'],\n",
       " ['hamlet@92070', 'HAMLET', \"As woman's love.\"],\n",
       " ['hamlet@93373', 'HAMLET', '[Aside]  Wormwood, wormwood.'],\n",
       " ['hamlet@95282', 'HAMLET', 'If she should break it now!'],\n",
       " ['hamlet@95556', 'HAMLET', 'Madam, how like you this play?'],\n",
       " ['hamlet@95649', 'HAMLET', \"O, but she'll keep her word.\"],\n",
       " ['hamlet@95757',\n",
       "  'HAMLET',\n",
       "  'No, no, they do but jest, poison in jest; no offence'],\n",
       " ['hamlet@95875',\n",
       "  'HAMLET',\n",
       "  'The Mouse-trap. Marry, how? Tropically. This play'],\n",
       " ['hamlet@96319',\n",
       "  'HAMLET',\n",
       "  'I could interpret between you and your love, if I'],\n",
       " ['hamlet@96456',\n",
       "  'HAMLET',\n",
       "  'It would cost you a groaning to take off my edge.'],\n",
       " ['hamlet@96548',\n",
       "  'HAMLET',\n",
       "  'So you must take your husbands. Begin, murderer;'],\n",
       " ['hamlet@97039', 'HAMLET', \"He poisons him i' the garden for's estate. His\"],\n",
       " ['hamlet@97256', 'HAMLET', 'What, frighted with false fire!'],\n",
       " ['hamlet@97474', 'HAMLET', '     Why, let the stricken deer go weep,'],\n",
       " ['hamlet@97830', 'HAMLET', 'A whole one, I.'],\n",
       " ['hamlet@98009',\n",
       "  'HAMLET',\n",
       "  \"O good Horatio, I'll take the ghost's word for a\"],\n",
       " ['hamlet@98128', 'HAMLET', 'Upon the talk of the poisoning?'],\n",
       " ['hamlet@98203', 'HAMLET', 'Ah, ha! Come, some music! come, the recorders!'],\n",
       " ['hamlet@98458', 'HAMLET', 'Sir, a whole history.'],\n",
       " ['hamlet@98519', 'HAMLET', 'Ay, sir, what of him?'],\n",
       " ['hamlet@98608', 'HAMLET', 'With drink, sir?'],\n",
       " ['hamlet@98680', 'HAMLET', 'Your wisdom should show itself more richer to'],\n",
       " ['hamlet@98956', 'HAMLET', 'I am tame, sir: pronounce.'],\n",
       " ['hamlet@99087', 'HAMLET', 'You are welcome.'],\n",
       " ['hamlet@99348', 'HAMLET', 'Sir, I cannot.'],\n",
       " ['hamlet@99400',\n",
       "  'HAMLET',\n",
       "  \"Make you a wholesome answer; my wit's diseased: but,\"],\n",
       " ['hamlet@99705',\n",
       "  'HAMLET',\n",
       "  'O wonderful son, that can so astonish a mother! But'],\n",
       " ['hamlet@99914',\n",
       "  'HAMLET',\n",
       "  'We shall obey, were she ten times our mother. Have'],\n",
       " ['hamlet@100049', 'HAMLET', 'So I do still, by these pickers and stealers.'],\n",
       " ['hamlet@100257', 'HAMLET', 'Sir, I lack advancement.'],\n",
       " ['hamlet@100397',\n",
       "  'HAMLET',\n",
       "  \"Ay, but sir, 'While the grass grows,'--the proverb\"],\n",
       " ['hamlet@100737',\n",
       "  'HAMLET',\n",
       "  'I do not well understand that. Will you play upon'],\n",
       " ['hamlet@100840', 'HAMLET', 'I pray you.'],\n",
       " ['hamlet@100896', 'HAMLET', 'I do beseech you.'],\n",
       " ['hamlet@100968',\n",
       "  'HAMLET',\n",
       "  \"'Tis as easy as lying: govern these ventages with\"],\n",
       " ['hamlet@101252',\n",
       "  'HAMLET',\n",
       "  'Why, look you now, how unworthy a thing you make of'],\n",
       " ['hamlet@101849',\n",
       "  'HAMLET',\n",
       "  \"Do you see yonder cloud that's almost in shape of a camel?\"],\n",
       " ['hamlet@101975', 'HAMLET', 'Methinks it is like a weasel.'],\n",
       " ['hamlet@102056', 'HAMLET', 'Or like a whale?'],\n",
       " ['hamlet@102115',\n",
       "  'HAMLET',\n",
       "  'Then I will come to my mother by and by. They fool'],\n",
       " ['hamlet@102254', 'HAMLET', 'By and by is easily said.'],\n",
       " ['hamlet@102891', '', 'HAMLET'],\n",
       " ['hamlet@106411', 'HAMLET', 'Now might I do it pat, now he is praying;'],\n",
       " ['hamlet@107549', '', 'HAMLET'],\n",
       " ['hamlet@107887', 'HAMLET', '[Within]  Mother, mother, mother!'],\n",
       " ['hamlet@108059', 'HAMLET', \"Now, mother, what's the matter?\"],\n",
       " ['hamlet@108159', 'HAMLET', 'Mother, you have my father much offended.'],\n",
       " ['hamlet@108269', 'HAMLET', 'Go, go, you question with a wicked tongue.'],\n",
       " ['hamlet@108358', 'HAMLET', \"What's the matter now?\"],\n",
       " ['hamlet@108425', 'HAMLET', 'No, by the rood, not so:'],\n",
       " ['hamlet@108622',\n",
       "  'HAMLET',\n",
       "  'Come, come, and sit you down; you shall not budge;'],\n",
       " ['hamlet@108892',\n",
       "  'HAMLET',\n",
       "  '[Drawing]  How now! a rat? Dead, for a ducat, dead!'],\n",
       " ['hamlet@109089', 'HAMLET', 'Nay, I know not:'],\n",
       " ['hamlet@109187', 'HAMLET', 'A bloody deed! almost as bad, good mother,'],\n",
       " ['hamlet@109315', 'HAMLET', \"                  Ay, lady, 'twas my word.\"],\n",
       " ['hamlet@109869', 'HAMLET', 'Such an act'],\n",
       " ['hamlet@110432', 'HAMLET', 'Look here, upon this picture, and on this,'],\n",
       " ['hamlet@112164', 'HAMLET', 'Nay, but to live'],\n",
       " ['hamlet@112411', 'HAMLET', 'A murderer and a villain;'],\n",
       " ['hamlet@112671', 'HAMLET', 'A king of shreds and patches,--'],\n",
       " ['hamlet@112860', 'HAMLET', 'Do you not come your tardy son to chide,'],\n",
       " ['hamlet@113243', 'HAMLET', 'How is it with you, lady?'],\n",
       " ['hamlet@113672', 'HAMLET', 'On him, on him! Look you, how pale he glares!'],\n",
       " ['hamlet@114004', 'HAMLET', 'Do you see nothing there?'],\n",
       " ['hamlet@114093', 'HAMLET', 'Nor did you nothing hear?'],\n",
       " ['hamlet@114170', 'HAMLET', 'Why, look you there! look, how it steals away!'],\n",
       " ['hamlet@114435', 'HAMLET', 'Ecstasy!'],\n",
       " ['hamlet@115242', 'HAMLET', 'O, throw away the worser part of it,'],\n",
       " ['hamlet@116322', 'HAMLET', 'Not this, by no means, that I bid you do:'],\n",
       " ['hamlet@117155', 'HAMLET', 'I must to England; you know that?'],\n",
       " ['hamlet@117257',\n",
       "  'HAMLET',\n",
       "  \"There's letters seal'd: and my two schoolfellows,\"],\n",
       " ['hamlet@118004', '', 'HAMLET'],\n",
       " ['hamlet@120314', '', 'HAMLET'],\n",
       " ['hamlet@120390', 'HAMLET', 'Safely stowed.'],\n",
       " ['hamlet@120483', 'HAMLET', 'What noise? who calls on Hamlet?'],\n",
       " ['hamlet@120645', 'HAMLET', \"Compounded it with dust, whereto 'tis kin.\"],\n",
       " ['hamlet@120784', 'HAMLET', 'Do not believe it.'],\n",
       " ['hamlet@120838', 'HAMLET', 'That I can keep your counsel and not mine own.'],\n",
       " ['hamlet@121034',\n",
       "  'HAMLET',\n",
       "  \"Ay, sir, that soaks up the king's countenance, his\"],\n",
       " ['hamlet@121414', 'HAMLET', 'I am glad of it: a knavish speech sleeps in a'],\n",
       " ['hamlet@121569',\n",
       "  'HAMLET',\n",
       "  'The body is with the king, but the king is not with'],\n",
       " ['hamlet@121694',\n",
       "  'HAMLET',\n",
       "  'Of nothing: bring me to him. Hide fox, and all after.'],\n",
       " ['hamlet@121770', '', 'HAMLET'],\n",
       " ['hamlet@122745', 'HAMLET', 'At supper.'],\n",
       " ['hamlet@122797',\n",
       "  'HAMLET',\n",
       "  'Not where he eats, but where he is eaten: a certain'],\n",
       " ['hamlet@123154',\n",
       "  'HAMLET',\n",
       "  'A man may fish with the worm that hath eat of a'],\n",
       " ['hamlet@123308', 'HAMLET', 'Nothing but to show you how a king may go a'],\n",
       " ['hamlet@123434',\n",
       "  'HAMLET',\n",
       "  'In heaven; send hither to see: if your messenger'],\n",
       " ['hamlet@123720', 'HAMLET', 'He will stay till ye come.'],\n",
       " ['hamlet@124087', 'HAMLET', '                  For England!'],\n",
       " ['hamlet@124153', 'HAMLET', 'Good.'],\n",
       " ['hamlet@124222', 'HAMLET', 'I see a cherub that sees them. But, come; for'],\n",
       " ['hamlet@124351',\n",
       "  'HAMLET',\n",
       "  'My mother: father and mother is man and wife; man'],\n",
       " ['hamlet@125232', '', 'HAMLET'],\n",
       " ['hamlet@125790', 'HAMLET', 'Good sir, whose powers are these?'],\n",
       " ['hamlet@125866', 'HAMLET', 'How purposed, sir, I pray you?'],\n",
       " ['hamlet@125943', 'HAMLET', 'Who commands them, sir?'],\n",
       " ['hamlet@126023', 'HAMLET', 'Goes it against the main of Poland, sir,'],\n",
       " ['hamlet@126354', 'HAMLET', 'Why, then the Polack never will defend it.'],\n",
       " ['hamlet@126445', 'HAMLET', 'Two thousand souls and twenty thousand ducats'],\n",
       " ['hamlet@126767', 'HAMLET', \"I'll be with you straight go a little before.\"],\n",
       " ['hamlet@128373', '', 'HAMLET'],\n",
       " ['hamlet@138301', '', 'HAMLET'],\n",
       " ['hamlet@139995', '', 'HAMLET'],\n",
       " ['hamlet@149306', '', 'HAMLET'],\n",
       " ['hamlet@152400',\n",
       "  'HAMLET',\n",
       "  'Has this fellow no feeling of his business, that he'],\n",
       " ['hamlet@152544',\n",
       "  'HAMLET',\n",
       "  \"'Tis e'en so: the hand of little employment hath\"],\n",
       " ['hamlet@152799',\n",
       "  'HAMLET',\n",
       "  'That skull had a tongue in it, and could sing once:'],\n",
       " ['hamlet@153104',\n",
       "  'HAMLET',\n",
       "  \"Or of a courtier; which could say 'Good morrow,\"],\n",
       " ['hamlet@153338',\n",
       "  'HAMLET',\n",
       "  \"Why, e'en so: and now my Lady Worm's; chapless, and\"],\n",
       " ['hamlet@153780',\n",
       "  'HAMLET',\n",
       "  \"There's another: why may not that be the skull of a\"],\n",
       " ['hamlet@154610', 'HAMLET', 'Is not parchment made of sheepskins?'],\n",
       " ['hamlet@154700',\n",
       "  'HAMLET',\n",
       "  'They are sheep and calves which seek out assurance'],\n",
       " ['hamlet@154922',\n",
       "  'HAMLET',\n",
       "  \"I think it be thine, indeed; for thou liest in't.\"],\n",
       " ['hamlet@155100',\n",
       "  'HAMLET',\n",
       "  \"'Thou dost lie in't, to be in't and say it is thine:\"],\n",
       " ['hamlet@155293', 'HAMLET', 'What man dost thou dig it for?'],\n",
       " ['hamlet@155362', 'HAMLET', 'What woman, then?'],\n",
       " ['hamlet@155420', 'HAMLET', \"Who is to be buried in't?\"],\n",
       " ['hamlet@155526',\n",
       "  'HAMLET',\n",
       "  'How absolute the knave is! we must speak by the'],\n",
       " ['hamlet@155955', 'HAMLET', 'How long is that since?'],\n",
       " ['hamlet@156137', 'HAMLET', 'Ay, marry, why was he sent into England?'],\n",
       " ['hamlet@156304', 'HAMLET', 'Why?'],\n",
       " ['hamlet@156399', 'HAMLET', 'How came he mad?'],\n",
       " ['hamlet@156463', 'HAMLET', 'How strangely?'],\n",
       " ['hamlet@156533', 'HAMLET', 'Upon what ground?'],\n",
       " ['hamlet@156647',\n",
       "  'HAMLET',\n",
       "  \"How long will a man lie i' the earth ere he rot?\"],\n",
       " ['hamlet@156924', 'HAMLET', 'Why he more than another?'],\n",
       " ['hamlet@157204', 'HAMLET', 'Whose was it?'],\n",
       " ['hamlet@157298', 'HAMLET', 'Nay, I know not.'],\n",
       " ['hamlet@157483', 'HAMLET', 'This?'],\n",
       " ['hamlet@157521', 'HAMLET', 'Let me see.'],\n",
       " ['hamlet@158221',\n",
       "  'HAMLET',\n",
       "  \"Dost thou think Alexander looked o' this fashion i'\"],\n",
       " ['hamlet@158311', 'HAMLET', 'And smelt so? pah!'],\n",
       " ['hamlet@158389',\n",
       "  'HAMLET',\n",
       "  'To what base uses we may return, Horatio! Why may'],\n",
       " ['hamlet@158597',\n",
       "  'HAMLET',\n",
       "  'No, faith, not a jot; but to follow him thither with'],\n",
       " ['hamlet@159556', 'HAMLET', 'That is Laertes,'],\n",
       " ['hamlet@160414', 'HAMLET', 'What, the fair Ophelia!'],\n",
       " ['hamlet@161036', 'HAMLET', '[Advancing]     What is he whose grief'],\n",
       " ['hamlet@161342', 'HAMLET', \"Thou pray'st not well.\"],\n",
       " ['hamlet@161746', 'HAMLET', 'Why I will fight with him upon this theme'],\n",
       " ['hamlet@161872', 'HAMLET', 'I loved Ophelia: forty thousand brothers'],\n",
       " ['hamlet@162094', 'HAMLET', \"'Swounds, show me what thou'lt do:\"],\n",
       " ['hamlet@162770', 'HAMLET', 'Hear you, sir;'],\n",
       " ['hamlet@163337', '', 'HAMLET'],\n",
       " ['hamlet@163418',\n",
       "  'HAMLET',\n",
       "  'So much for this, sir: now shall you see the other;'],\n",
       " ['hamlet@163548', 'HAMLET', 'Sir, in my heart there was a kind of fighting,'],\n",
       " ['hamlet@163946', 'HAMLET', 'Up from my cabin,'],\n",
       " ['hamlet@164547',\n",
       "  'HAMLET',\n",
       "  \"Here's the commission: read it at more leisure.\"],\n",
       " ['hamlet@164669', 'HAMLET', 'Being thus be-netted round with villanies,--'],\n",
       " ['hamlet@165077', 'HAMLET', 'An earnest conjuration from the king,'],\n",
       " ['hamlet@165543', 'HAMLET', 'Why, even in that was heaven ordinant.'],\n",
       " ['hamlet@165939',\n",
       "  'HAMLET',\n",
       "  'Why, man, they did make love to this employment;'],\n",
       " ['hamlet@166224',\n",
       "  'HAMLET',\n",
       "  \"Does it not, think'st thee, stand me now upon--\"],\n",
       " ['hamlet@166681', 'HAMLET', 'It will be short: the interim is mine;'],\n",
       " ['hamlet@167109',\n",
       "  'HAMLET',\n",
       "  'I humbly thank you, sir. Dost know this water-fly?'],\n",
       " ['hamlet@167195',\n",
       "  'HAMLET',\n",
       "  \"Thy state is the more gracious; for 'tis a vice to\"],\n",
       " ['hamlet@167545', 'HAMLET', 'I will receive it, sir, with all diligence of'],\n",
       " ['hamlet@167707', 'HAMLET', \"No, believe me, 'tis very cold; the wind is\"],\n",
       " ['hamlet@167819',\n",
       "  'HAMLET',\n",
       "  'But yet methinks it is very sultry and hot for my'],\n",
       " ['hamlet@168094', 'HAMLET', 'I beseech you, remember--'],\n",
       " ['hamlet@168531',\n",
       "  'HAMLET',\n",
       "  'Sir, his definement suffers no perdition in you;'],\n",
       " ['hamlet@169025',\n",
       "  'HAMLET',\n",
       "  'The concernancy, sir? why do we wrap the gentleman'],\n",
       " ['hamlet@169212', 'HAMLET', 'What imports the nomination of this gentleman?'],\n",
       " ['hamlet@169353', 'HAMLET', 'Of him, sir.'],\n",
       " ['hamlet@169411',\n",
       "  'HAMLET',\n",
       "  'I would you did, sir; yet, in faith, if you did,'],\n",
       " ['hamlet@169570',\n",
       "  'HAMLET',\n",
       "  'I dare not confess that, lest I should compare with'],\n",
       " ['hamlet@169807', 'HAMLET', \"What's his weapon?\"],\n",
       " ['hamlet@169860', 'HAMLET', \"That's two of his weapons: but, well.\"],\n",
       " ['hamlet@170247', 'HAMLET', 'What call you the carriages?'],\n",
       " ['hamlet@170397',\n",
       "  'HAMLET',\n",
       "  'The phrase would be more german to the matter, if we'],\n",
       " ['hamlet@170963', 'HAMLET', \"How if I answer 'no'?\"],\n",
       " ['hamlet@171057',\n",
       "  'HAMLET',\n",
       "  'Sir, I will walk here in the hall: if it please his'],\n",
       " ['hamlet@171377',\n",
       "  'HAMLET',\n",
       "  'To this effect, sir; after what flourish your nature will.'],\n",
       " ['hamlet@171487', 'HAMLET', 'Yours, yours.'],\n",
       " ['hamlet@171661',\n",
       "  'HAMLET',\n",
       "  'He did comply with his dug, before he sucked it.'],\n",
       " ['hamlet@172265',\n",
       "  'HAMLET',\n",
       "  \"I am constant to my purpose; they follow the king's\"],\n",
       " ['hamlet@172474', 'HAMLET', 'In happy time.'],\n",
       " ['hamlet@172595', 'HAMLET', 'She well instructs me.'],\n",
       " ['hamlet@172684',\n",
       "  'HAMLET',\n",
       "  'I do not think so: since he went into France, I'],\n",
       " ['hamlet@172914', 'HAMLET', 'It is but foolery; but it is such a kind of'],\n",
       " ['hamlet@173129', 'HAMLET', \"Not a whit, we defy augury: there's a special\"],\n",
       " ['hamlet@173632', 'HAMLET', \"Give me your pardon, sir: I've done you wrong;\"],\n",
       " ['hamlet@174779', 'HAMLET', 'I embrace it freely;'],\n",
       " ['hamlet@174909', 'HAMLET', \"I'll be your foil, Laertes: in mine ignorance\"],\n",
       " ['hamlet@175068', 'HAMLET', 'No, by this hand.'],\n",
       " ['hamlet@175179', 'HAMLET', 'Very well, my lord'],\n",
       " ['hamlet@175411',\n",
       "  'HAMLET',\n",
       "  'This likes me well. These foils have all a length?'],\n",
       " ['hamlet@176109', 'HAMLET', 'Come on, sir.'],\n",
       " ['hamlet@176187', 'HAMLET', 'One.'],\n",
       " ['hamlet@176213', 'HAMLET', 'Judgment.'],\n",
       " ['hamlet@176444',\n",
       "  'HAMLET',\n",
       "  \"I'll play this bout first; set it by awhile. Come.\"],\n",
       " ['hamlet@176776', 'HAMLET', 'Good madam!'],\n",
       " ['hamlet@176965', 'HAMLET', 'I dare not drink yet, madam; by and by.'],\n",
       " ['hamlet@177187', 'HAMLET', 'Come, for the third, Laertes: you but dally;'],\n",
       " ['hamlet@177559', 'HAMLET', 'Nay, come, again.'],\n",
       " ['hamlet@177846', 'HAMLET', 'How does the queen?'],\n",
       " ['hamlet@178034', 'HAMLET', \"O villany! Ho! let the door be lock'd:\"],\n",
       " ['hamlet@178467', 'HAMLET', \"The point!--envenom'd too!\"],\n",
       " ['hamlet@178633', 'HAMLET', 'Here, thou incestuous, murderous, damned Dane,'],\n",
       " ['hamlet@178978', 'HAMLET', 'Heaven make thee free of it! I follow thee.'],\n",
       " ['hamlet@179461', 'HAMLET', \"As thou'rt a man,\"],\n",
       " ['hamlet@179955', 'HAMLET', 'O, I die, Horatio;']]"
      ]
     },
     "execution_count": 10,
     "metadata": {},
     "output_type": "execute_result"
    }
   ],
   "source": [
    "hamlet_spoken_lines.collect()"
   ]
  },
  {
   "cell_type": "code",
   "execution_count": 11,
   "metadata": {},
   "outputs": [
    {
     "data": {
      "text/plain": [
       "['hamlet@58478', 'HAMLET', 'A goodly one; in which there are many confines,']"
      ]
     },
     "execution_count": 11,
     "metadata": {},
     "output_type": "execute_result"
    }
   ],
   "source": [
    "spoken_101 = list(hamlet_spoken_lines.collect())[100]\n",
    "spoken_101"
   ]
  },
  {
   "cell_type": "markdown",
   "metadata": {},
   "source": []
  },
  {
   "cell_type": "markdown",
   "metadata": {},
   "source": []
  },
  {
   "cell_type": "markdown",
   "metadata": {},
   "source": [
    "Transform the RDD split_hamlet into a new RDD hamlet_with_ids that contains the clean version of the line ID for each element.\n",
    "\n",
    "- For example, we want to transform hamlet@0 to 0, and leave the rest of the values in that element untouched.\n",
    " -Recall that the map() function will run on each element in the RDD, where each element is a list that we can access using regular Python mechanics."
   ]
  },
  {
   "cell_type": "code",
   "execution_count": 21,
   "metadata": {},
   "outputs": [
    {
     "data": {
      "text/plain": [
       "[['0', '', 'HAMLET'],\n",
       " ['8'],\n",
       " ['9'],\n",
       " ['10', '', 'DRAMATIS PERSONAE'],\n",
       " ['29'],\n",
       " ['30'],\n",
       " ['31', 'CLAUDIUS', 'king of Denmark. (KING CLAUDIUS:)'],\n",
       " ['74'],\n",
       " ['75', 'HAMLET', 'son to the late, and nephew to the present king.'],\n",
       " ['131']]"
      ]
     },
     "execution_count": 21,
     "metadata": {},
     "output_type": "execute_result"
    }
   ],
   "source": [
    "def format_id(x):\n",
    "    id = x[0].split('@')[1]\n",
    "    results = list()\n",
    "    results.append(id)\n",
    "    if len(x) > 1:\n",
    "        for y in x[1:]:\n",
    "            results.append(y)\n",
    "    return results\n",
    "\n",
    "hamlet_with_ids = split_hamlet.map(lambda line: format_id(line))\n",
    "hamlet_with_ids.take(10)"
   ]
  },
  {
   "cell_type": "code",
   "execution_count": null,
   "metadata": {
    "collapsed": true
   },
   "outputs": [],
   "source": []
  }
 ],
 "metadata": {
  "kernelspec": {
   "display_name": "Python 3",
   "language": "python",
   "name": "python3"
  },
  "language_info": {
   "codemirror_mode": {
    "name": "ipython",
    "version": 3
   },
   "file_extension": ".py",
   "mimetype": "text/x-python",
   "name": "python",
   "nbconvert_exporter": "python",
   "pygments_lexer": "ipython3",
   "version": "3.6.3"
  }
 },
 "nbformat": 4,
 "nbformat_minor": 2
}
